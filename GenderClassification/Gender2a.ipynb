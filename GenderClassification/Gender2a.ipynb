{
  "nbformat": 4,
  "nbformat_minor": 0,
  "metadata": {
    "kernelspec": {
      "display_name": "Python 3",
      "language": "python",
      "name": "python3"
    },
    "language_info": {
      "codemirror_mode": {
        "name": "ipython",
        "version": 3
      },
      "file_extension": ".py",
      "mimetype": "text/x-python",
      "name": "python",
      "nbconvert_exporter": "python",
      "pygments_lexer": "ipython3",
      "version": "3.7.3"
    },
    "colab": {
      "provenance": [],
      "collapsed_sections": [
        "_Csh9_NIVnKj",
        "patjKtHCVnNc"
      ]
    }
  },
  "cells": [
    {
      "cell_type": "markdown",
      "metadata": {
        "id": "q2lZ4DE0VnDs"
      },
      "source": [
        "## Gender Classification Of Names\n",
        "### Using Machine Learning To Detect/Predict Gender of Individuals \n",
        "+ Sklearn\n",
        "+ Pandas\n",
        "+ Text Extraction"
      ]
    },
    {
      "cell_type": "code",
      "metadata": {
        "id": "cCvC6_8rVnDx"
      },
      "source": [
        "# EDA packages\n",
        "import pandas as pd\n",
        "import numpy as np\n"
      ],
      "execution_count": null,
      "outputs": []
    },
    {
      "cell_type": "code",
      "metadata": {
        "id": "9bg8MVqZVnEL"
      },
      "source": [
        "# ML Packages\n",
        "from sklearn.feature_extraction.text import CountVectorizer\n",
        "from sklearn.feature_extraction import DictVectorizer\n",
        "#from sklearn.feature_extraction.text import TfidfVectorizer\n"
      ],
      "execution_count": null,
      "outputs": []
    },
    {
      "cell_type": "code",
      "metadata": {
        "id": "6HMQPEH6VnEo"
      },
      "source": [
        "# Load our data\n",
        "df = pd.read_csv('names_dataset.csv')"
      ],
      "execution_count": null,
      "outputs": []
    },
    {
      "cell_type": "code",
      "metadata": {
        "id": "tnCY4MwaVnE3"
      },
      "source": [
        "df.head()"
      ],
      "execution_count": null,
      "outputs": []
    },
    {
      "cell_type": "code",
      "metadata": {
        "id": "d-VQWd43VnFK"
      },
      "source": [
        "df.size"
      ],
      "execution_count": null,
      "outputs": []
    },
    {
      "cell_type": "code",
      "metadata": {
        "id": "e_kl5Rr-VnFZ"
      },
      "source": [
        "# Data Cleaning\n",
        "# Checking for column name consistency\n",
        "df.columns"
      ],
      "execution_count": null,
      "outputs": []
    },
    {
      "cell_type": "code",
      "metadata": {
        "id": "mzbsuzIsVnFo"
      },
      "source": [
        "# Data Types\n",
        "df.dtypes"
      ],
      "execution_count": null,
      "outputs": []
    },
    {
      "cell_type": "code",
      "metadata": {
        "id": "h8GwtwF_VnF0"
      },
      "source": [
        "# Checking for Missing Values\n",
        "df.isnull().isnull().sum()"
      ],
      "execution_count": null,
      "outputs": []
    },
    {
      "cell_type": "code",
      "metadata": {
        "id": "qBlPtcKWVnF9"
      },
      "source": [
        "# Number of Female Names\n",
        "df[df.sex == 'F'].size"
      ],
      "execution_count": null,
      "outputs": []
    },
    {
      "cell_type": "code",
      "metadata": {
        "id": "bejDeukmVnGL"
      },
      "source": [
        "# Number of Male Names\n",
        "df[df.sex == 'M'].size"
      ],
      "execution_count": null,
      "outputs": []
    },
    {
      "cell_type": "code",
      "metadata": {
        "id": "VXFdBa7eVnGV"
      },
      "source": [
        "df_names = df"
      ],
      "execution_count": null,
      "outputs": []
    },
    {
      "cell_type": "code",
      "metadata": {
        "scrolled": true,
        "id": "Jatm2QS9VnGi"
      },
      "source": [
        "# Replacing All F and M with 0 and 1 respectively\n",
        "df_names.sex.replace({'F':0,'M':1},inplace=True)"
      ],
      "execution_count": null,
      "outputs": []
    },
    {
      "cell_type": "code",
      "metadata": {
        "id": "dqeZc8gtVnGu"
      },
      "source": [
        "df_names.sex.unique()"
      ],
      "execution_count": null,
      "outputs": []
    },
    {
      "cell_type": "code",
      "metadata": {
        "id": "bzh5iXE5VnG6"
      },
      "source": [
        "df_names.dtypes"
      ],
      "execution_count": null,
      "outputs": []
    },
    {
      "cell_type": "code",
      "metadata": {
        "id": "-gUHwn62VnHI"
      },
      "source": [
        "Xfeatures =df_names['name']"
      ],
      "execution_count": null,
      "outputs": []
    },
    {
      "cell_type": "code",
      "metadata": {
        "id": "8exT1AbZVnHV"
      },
      "source": [
        "# Feature Extraction \n",
        "cv = CountVectorizer()\n",
        "X = cv.fit_transform(Xfeatures)"
      ],
      "execution_count": null,
      "outputs": []
    },
    {
      "cell_type": "code",
      "metadata": {
        "id": "r4Cc4h0CVnHg"
      },
      "source": [
        "cv.get_feature_names()"
      ],
      "execution_count": null,
      "outputs": []
    },
    {
      "cell_type": "code",
      "metadata": {
        "id": "8zGVhQM7VnHr"
      },
      "source": [
        "from sklearn.model_selection import train_test_split"
      ],
      "execution_count": null,
      "outputs": []
    },
    {
      "cell_type": "code",
      "metadata": {
        "id": "jpBZTcOfVnHz"
      },
      "source": [
        "# Features \n",
        "X\n",
        "# Labels\n",
        "y = df_names.sex"
      ],
      "execution_count": null,
      "outputs": []
    },
    {
      "cell_type": "code",
      "metadata": {
        "id": "sNPkB7xxVnH8"
      },
      "source": [
        "X_train, X_test, y_train, y_test = train_test_split(X, y, test_size=0.33, random_state=42)"
      ],
      "execution_count": null,
      "outputs": []
    },
    {
      "cell_type": "code",
      "metadata": {
        "id": "uaG15ja1VnIE"
      },
      "source": [
        "# Naive Bayes Classifier\n",
        "from sklearn.naive_bayes import MultinomialNB\n",
        "clf = MultinomialNB()\n",
        "clf.fit(X_train,y_train)\n",
        "clf.score(X_test,y_test)\n"
      ],
      "execution_count": null,
      "outputs": []
    },
    {
      "cell_type": "code",
      "metadata": {
        "id": "rd2Zmt-BVnIQ"
      },
      "source": [
        "# Accuracy of our Model\n",
        "print(\"Accuracy of Model\",clf.score(X_test,y_test)*100,\"%\")"
      ],
      "execution_count": null,
      "outputs": []
    },
    {
      "cell_type": "code",
      "metadata": {
        "id": "bpe-NfUGVnIa"
      },
      "source": [
        "# Accuracy of our Model\n",
        "print(\"Accuracy of Model\",clf.score(X_train,y_train)*100,\"%\")"
      ],
      "execution_count": null,
      "outputs": []
    },
    {
      "cell_type": "markdown",
      "metadata": {
        "id": "MCBqEd-pVnIk"
      },
      "source": [
        "### Sample Prediction"
      ]
    },
    {
      "cell_type": "code",
      "metadata": {
        "id": "jR2lmAoxVnIm"
      },
      "source": [
        "# Sample1 Prediction\n",
        "sample_name = [\"Mary\"]\n",
        "vect = cv.transform(sample_name).toarray()"
      ],
      "execution_count": null,
      "outputs": []
    },
    {
      "cell_type": "code",
      "metadata": {
        "id": "fHdEenimVnIw"
      },
      "source": [
        "vect"
      ],
      "execution_count": null,
      "outputs": []
    },
    {
      "cell_type": "code",
      "metadata": {
        "id": "LvKfWgEgVnI7"
      },
      "source": [
        "# Female is 0, Male is 1\n",
        "clf.predict(vect)"
      ],
      "execution_count": null,
      "outputs": []
    },
    {
      "cell_type": "code",
      "metadata": {
        "id": "RhZHiFfRVnJJ"
      },
      "source": [
        "# Sample2 Prediction\n",
        "sample_name1 = [\"Mark\"]\n",
        "vect1 = cv.transform(sample_name1).toarray()"
      ],
      "execution_count": null,
      "outputs": []
    },
    {
      "cell_type": "code",
      "metadata": {
        "id": "ShHw56iuVnJP"
      },
      "source": [
        "clf.predict(vect1)"
      ],
      "execution_count": null,
      "outputs": []
    },
    {
      "cell_type": "code",
      "metadata": {
        "id": "2PgWPVmsVnJZ"
      },
      "source": [
        "# Sample3 Prediction of Russian Names\n",
        "sample_name2 = [\"Natasha\"]\n",
        "vect2 = cv.transform(sample_name2).toarray()"
      ],
      "execution_count": null,
      "outputs": []
    },
    {
      "cell_type": "code",
      "metadata": {
        "id": "x8G1vuo_VnJi"
      },
      "source": [
        "clf.predict(vect2)"
      ],
      "execution_count": null,
      "outputs": []
    },
    {
      "cell_type": "code",
      "metadata": {
        "id": "ya5xdI5VVnJp"
      },
      "source": [
        "# Sample3 Prediction of Random Names\n",
        "sample_name3 = [\"Nefertiti\",\"Nasha\",\"Ama\",\"Ayo\",\"Xhavier\",\"Ovetta\",\"Tathiana\",\"Xia\",\"Joseph\",\"Xianliang\"]\n",
        "vect3 = cv.transform(sample_name3).toarray()"
      ],
      "execution_count": null,
      "outputs": []
    },
    {
      "cell_type": "code",
      "metadata": {
        "id": "aiKO9awmVnJw"
      },
      "source": [
        "clf.predict(vect3)"
      ],
      "execution_count": null,
      "outputs": []
    },
    {
      "cell_type": "code",
      "metadata": {
        "id": "j_0cLu6iVnJ7"
      },
      "source": [
        "# A function to do it\n",
        "def genderpredictor(a):\n",
        "    test_name = [a]\n",
        "    vector = cv.transform(test_name).toarray()\n",
        "    if clf.predict(vector) == 0:\n",
        "        print(\"Female\")\n",
        "    else:\n",
        "        print(\"Male\")\n",
        "    "
      ],
      "execution_count": null,
      "outputs": []
    },
    {
      "cell_type": "code",
      "metadata": {
        "id": "QgprLIrbVnKB"
      },
      "source": [
        "genderpredictor(\"Martha\")"
      ],
      "execution_count": null,
      "outputs": []
    },
    {
      "cell_type": "code",
      "metadata": {
        "id": "xo2RqgzKVnKI"
      },
      "source": [
        "Features fxn\n",
        "apply the fxn\n",
        "vectorizer\n",
        "fit\n",
        "transform\n",
        "classifier\n",
        "fit\n",
        "predict\n"
      ],
      "execution_count": null,
      "outputs": []
    },
    {
      "cell_type": "code",
      "metadata": {
        "id": "estaMeGnVnKS"
      },
      "source": [
        "namelist = [\"Yaa\",\"Yaw\",\"Femi\",\"Masha\"]\n",
        "for i in namelist:\n",
        "    print(genderpredictor(i))"
      ],
      "execution_count": null,
      "outputs": []
    },
    {
      "cell_type": "markdown",
      "metadata": {
        "id": "_Csh9_NIVnKj"
      },
      "source": [
        "### Using a custom function for feature analysis"
      ]
    },
    {
      "cell_type": "code",
      "metadata": {
        "id": "_w9KFOyOVnKk"
      },
      "source": [
        "# By Analogy most female names ends in 'A' or 'E' or has the sound of 'A'\n",
        "def features(name):\n",
        "    name = name.lower()\n",
        "    return {\n",
        "        'first-letter': name[0], # First letter\n",
        "        'first2-letters': name[0:2], # First 2 letters\n",
        "        'first3-letters': name[0:3], # First 3 letters\n",
        "        'last-letter': name[-1],\n",
        "        'last2-letters': name[-2:],\n",
        "        'last3-letters': name[-3:],\n",
        "    }"
      ],
      "execution_count": null,
      "outputs": []
    },
    {
      "cell_type": "code",
      "metadata": {
        "id": "g5se6OM5VnKt"
      },
      "source": [
        "# Vectorize the features function\n",
        "features = np.vectorize(features)\n",
        "print(features([\"Anna\", \"Hannah\", \"Peter\",\"John\",\"Vladmir\",\"Mohammed\"]))"
      ],
      "execution_count": null,
      "outputs": []
    },
    {
      "cell_type": "code",
      "metadata": {
        "id": "ttoubT3bVnK2"
      },
      "source": [
        "# Extract the features for the dataset\n",
        "df_X = features(df_names['name'])"
      ],
      "execution_count": null,
      "outputs": []
    },
    {
      "cell_type": "code",
      "metadata": {
        "id": "FPinmYcsVnK-"
      },
      "source": [
        "df_y = df_names['sex']"
      ],
      "execution_count": null,
      "outputs": []
    },
    {
      "cell_type": "code",
      "metadata": {
        "id": "uJzdhe8cVnLF"
      },
      "source": [
        "from sklearn.feature_extraction import DictVectorizer\n",
        " \n",
        "corpus = features([\"Mike\", \"Julia\"])\n",
        "dv = DictVectorizer()\n",
        "dv.fit(corpus)\n",
        "transformed = dv.transform(corpus)\n",
        "print(transformed)\n",
        " "
      ],
      "execution_count": null,
      "outputs": []
    },
    {
      "cell_type": "code",
      "metadata": {
        "id": "xShQCpGVVnLO"
      },
      "source": [
        "dv.get_feature_names()"
      ],
      "execution_count": null,
      "outputs": []
    },
    {
      "cell_type": "code",
      "metadata": {
        "id": "9wwQ1fT9VnLV"
      },
      "source": [
        "# Train Test Split\n",
        "dfX_train, dfX_test, dfy_train, dfy_test = train_test_split(df_X, df_y, test_size=0.33, random_state=42)"
      ],
      "execution_count": null,
      "outputs": []
    },
    {
      "cell_type": "code",
      "metadata": {
        "id": "oISYjOdZVnLb"
      },
      "source": [
        "dfX_train"
      ],
      "execution_count": null,
      "outputs": []
    },
    {
      "cell_type": "code",
      "metadata": {
        "id": "N1kTX5-EVnLj"
      },
      "source": [
        "\n",
        "dv = DictVectorizer()\n",
        "dv.fit_transform(dfX_train)\n"
      ],
      "execution_count": null,
      "outputs": []
    },
    {
      "cell_type": "code",
      "metadata": {
        "id": "hbj7sv6fVnLx"
      },
      "source": [
        "# Model building Using DecisionTree\n",
        "\n",
        "from sklearn.tree import DecisionTreeClassifier\n",
        " \n",
        "dclf = DecisionTreeClassifier()\n",
        "my_xfeatures =dv.transform(dfX_train)\n",
        "dclf.fit(my_xfeatures, dfy_train)\n"
      ],
      "execution_count": null,
      "outputs": []
    },
    {
      "cell_type": "code",
      "metadata": {
        "scrolled": true,
        "id": "vdvZLD3dVnL3"
      },
      "source": [
        "# Build Features and Transform them\n",
        "sample_name_eg = [\"Alex\"]\n",
        "transform_dv =dv.transform(features(sample_name_eg))\n"
      ],
      "execution_count": null,
      "outputs": []
    },
    {
      "cell_type": "code",
      "metadata": {
        "id": "cMr0QSsxVnMZ"
      },
      "source": [
        "vect3 = transform_dv.toarray()"
      ],
      "execution_count": null,
      "outputs": []
    },
    {
      "cell_type": "code",
      "metadata": {
        "id": "I63-Nf-eVnMh"
      },
      "source": [
        "# Predicting Gender of Name\n",
        "# Male is 1,female = 0\n",
        "dclf.predict(vect3)"
      ],
      "execution_count": null,
      "outputs": []
    },
    {
      "cell_type": "code",
      "metadata": {
        "id": "Zal1nlVvVnM0"
      },
      "source": [
        "if dclf.predict(vect3) == 0:\n",
        "    print(\"Female\")\n",
        "else:\n",
        "    print(\"Male\")"
      ],
      "execution_count": null,
      "outputs": []
    },
    {
      "cell_type": "code",
      "metadata": {
        "id": "9Gcaz2XWVnM6"
      },
      "source": [
        "# Second Prediction With Nigerian Name\n",
        "name_eg1 = [\"Chioma\"]\n",
        "transform_dv =dv.transform(features(name_eg1))\n",
        "vect4 = transform_dv.toarray()\n",
        "if dclf.predict(vect4) == 0:\n",
        "    print(\"Female\")\n",
        "else:\n",
        "    print(\"Male\")"
      ],
      "execution_count": null,
      "outputs": []
    },
    {
      "cell_type": "code",
      "metadata": {
        "id": "AmX5gWlUVnNA"
      },
      "source": [
        "# A function to do it\n",
        "def genderpredictor1(a):\n",
        "    test_name1 = [a]\n",
        "    transform_dv =dv.transform(features(test_name1))\n",
        "    vector = transform_dv.toarray()\n",
        "    if dclf.predict(vector) == 0:\n",
        "        print(\"Female\")\n",
        "    else:\n",
        "        print(\"Male\")\n",
        "    "
      ],
      "execution_count": null,
      "outputs": []
    },
    {
      "cell_type": "code",
      "metadata": {
        "id": "3jDqRFCuVnNG"
      },
      "source": [
        "random_name_list = [\"Alex\",\"Alice\",\"Chioma\",\"Vitalic\",\"Clairese\",\"Chan\"]"
      ],
      "execution_count": null,
      "outputs": []
    },
    {
      "cell_type": "code",
      "metadata": {
        "id": "zrej0b94VnNJ"
      },
      "source": [
        "for n in random_name_list:\n",
        "    print(genderpredictor1(n))"
      ],
      "execution_count": null,
      "outputs": []
    },
    {
      "cell_type": "code",
      "metadata": {
        "id": "QWhGUCp7VnNQ"
      },
      "source": [
        "## Accuracy of Models Decision Tree Classifier Works better than Naive Bayes\n",
        "# Accuracy on training set\n",
        "print(dclf.score(dv.transform(dfX_train), dfy_train)) \n",
        " "
      ],
      "execution_count": null,
      "outputs": []
    },
    {
      "cell_type": "code",
      "metadata": {
        "id": "0wGAPJwrVnNY"
      },
      "source": [
        "# Accuracy on test set\n",
        "print(dclf.score(dv.transform(dfX_test), dfy_test))"
      ],
      "execution_count": null,
      "outputs": []
    },
    {
      "cell_type": "markdown",
      "metadata": {
        "id": "patjKtHCVnNc"
      },
      "source": [
        "### Saving Our Model"
      ]
    },
    {
      "cell_type": "code",
      "metadata": {
        "id": "dvApwYhUVnNd"
      },
      "source": [
        "from sklearn.externals import joblib"
      ],
      "execution_count": null,
      "outputs": []
    },
    {
      "cell_type": "code",
      "metadata": {
        "id": "L3pbBnVRVnNi"
      },
      "source": [
        "decisiontreModel = open(\"decisiontreemodel.pkl\",\"wb\")"
      ],
      "execution_count": null,
      "outputs": []
    },
    {
      "cell_type": "code",
      "metadata": {
        "id": "521Im53hVnNm"
      },
      "source": [
        "joblib.dump(dclf,decisiontreModel)"
      ],
      "execution_count": null,
      "outputs": []
    },
    {
      "cell_type": "code",
      "metadata": {
        "id": "70B-6FzAVnNq"
      },
      "source": [
        "decisiontreModel.close"
      ],
      "execution_count": null,
      "outputs": []
    },
    {
      "cell_type": "code",
      "metadata": {
        "id": "Xwb01uy3VnNw"
      },
      "source": [
        "#Alternative to Model Saving\n",
        "import pickle\n",
        "dctreeModel = open(\"namesdetectormodel.pkl\",\"wb\")"
      ],
      "execution_count": null,
      "outputs": []
    },
    {
      "cell_type": "code",
      "metadata": {
        "id": "ztZNXKQJVnN2"
      },
      "source": [
        "pickle.dump(dclf,dctreeModel)"
      ],
      "execution_count": null,
      "outputs": []
    },
    {
      "cell_type": "code",
      "metadata": {
        "id": "QVdIhmmMVnN8"
      },
      "source": [
        "dctreeModel.close()"
      ],
      "execution_count": null,
      "outputs": []
    },
    {
      "cell_type": "markdown",
      "metadata": {
        "id": "M_aOe00kVnOE"
      },
      "source": [
        "##### Save Multinomial NB Model"
      ]
    },
    {
      "cell_type": "code",
      "metadata": {
        "id": "GlHt5qhHVnOF"
      },
      "source": [
        "NaiveBayesModel = open(\"naivebayesgendermodel.pkl\",\"wb\")"
      ],
      "execution_count": null,
      "outputs": []
    },
    {
      "cell_type": "code",
      "metadata": {
        "id": "k0PIQGX6VnOO"
      },
      "source": [
        "joblib.dump(clf,NaiveBayesModel)"
      ],
      "execution_count": null,
      "outputs": []
    },
    {
      "cell_type": "code",
      "metadata": {
        "id": "p6Ror461VnOc"
      },
      "source": [
        "NaiveBayesModel.close()"
      ],
      "execution_count": null,
      "outputs": []
    },
    {
      "cell_type": "code",
      "metadata": {
        "id": "hXM4LXTaVnOk"
      },
      "source": [
        "# Thanks\n",
        "# By Jesse JCharis\n",
        "# Jesus Saves @ JCharisTech\n",
        "# J-Secur1ty"
      ],
      "execution_count": null,
      "outputs": []
    },
    {
      "cell_type": "code",
      "metadata": {
        "id": "uY8RmH6IVnOo"
      },
      "source": [
        "print(genderpredictor(\"Bianca\"))"
      ],
      "execution_count": null,
      "outputs": []
    },
    {
      "cell_type": "code",
      "metadata": {
        "id": "Jir7s_6dVnOv"
      },
      "source": [
        "a=(genderpredictor(\"Sasha\"))\n",
        "print(a)"
      ],
      "execution_count": null,
      "outputs": []
    },
    {
      "cell_type": "code",
      "metadata": {
        "id": "F899DZUVVnO0"
      },
      "source": [
        "b=genderpredictor1(\"Sasha\")\n",
        "print(b)"
      ],
      "execution_count": null,
      "outputs": []
    },
    {
      "cell_type": "code",
      "metadata": {
        "id": "2BuuZvP_VnO_"
      },
      "source": [
        "list2=[\"Alex\",\"Alice\",\"Chioma\",\"Vitalic\",\"Clairese\",\"Chan\",\"Aisha\",\"Sasha\",\"Glenn\",\"Vitória\",\"Bruna\",\"Brenda\",\"Karina\",\"Adalgira\",\"João\",\"Pedro\",\"Reginaldo\",\"Sofia\",\"Sara\",\"Bianca\",\"Samuel\",\"Diana\",\"Letícia\",\"Marinalva\",\"Efigênia\",\"Rita\",\"Ancelmo\"]\n",
        "#for n in list2:\n",
        "   # print(genderpredictor1(n))\n",
        "    \n",
        "print(\"\\n##########################\\n\")    \n",
        "#for o in list2:\n",
        "   # print(genderpredictor(o))\n",
        "p=len(list2)#(range(10)))   \n",
        "print(p)\n",
        "i=0\n",
        "while(i<p):\n",
        "    list3=list2[i]\n",
        "    #print(list3)\n",
        "    lista4=[list3]\n",
        "    #print( lista4)\n",
        "    transform_dv =dv.transform(features(lista4))\n",
        "    vect4 = transform_dv.toarray()\n",
        "    if dclf.predict(vect4) == 0:\n",
        "        print(\"Female\")\n",
        "    else:\n",
        "        print(\"Male\")\n",
        "    i=i+1\n",
        "\n",
        "\"\"\"\n",
        "\n",
        "for p in range list2:\n",
        "    #print(genderpredictor(o))\n",
        "    list3=list2[p]\n",
        "    transform_dv =dv.transform(features(list3))\n",
        "    vect4 = transform_dv.toarray()\n",
        "    if dclf.predict(vect4) == 0:\n",
        "        print(\"Female\")\n",
        "    else:\n",
        "        print(\"Male\")\n",
        "\"\"\"        "
      ],
      "execution_count": null,
      "outputs": []
    },
    {
      "cell_type": "code",
      "metadata": {
        "id": "sM50HsAiVnPE"
      },
      "source": [
        "#arquivo = open('Dataset.csv',encoding=\"utf8\")\n",
        "#po=len(arquivo)\n",
        "#print(po)\n",
        "#linhas=arquivo.read()\n",
        "#print(linhas)\n",
        "#i=0\n",
        "#for linha in  linhas:\n",
        " #   print(i+1)\n",
        "  #  print(linha)\n",
        "   # print(\"\\n\")\n",
        "    #i=i+1\n",
        "#print(linhas[1][])\n",
        "\n",
        "import csv\n",
        "ashura=\"Gender\"\n",
        "with open('PDT2A.csv',encoding=\"utf8\") as stream:\n",
        "    reader = csv.reader(stream)\n",
        "    for row in reader:\n",
        "        print(row)\n",
        "        lista4=row\n",
        "        #print( lista4)\n",
        "        transform_dv =dv.transform(features(lista4))\n",
        "        vect4 = transform_dv.toarray()\n",
        "        if dclf.predict(vect4) == 0:\n",
        "           # print(\"Female\")\n",
        "            ashura+=\"Female \\n\"\n",
        "        else:\n",
        "            #print(\"Male\")\n",
        "            ashura+=\"Male \\n\"\n",
        "    #i=i+1\n",
        "print(\"\\n#################################\\n\\n\")\n",
        "#list2=[\"OLGAMIR AMÂNCIA FERREIRA\",\"WIJAIRO JOSE DA COSTA MENDONCA \",\"JACIR ALCEDIR BENETTI\",\"ADIVEONY PEREIRA VAZ\",\"SEDENI JOSE JOAQUIM\",\"SOMER PEREIRA DO NASCIMENTO\"]\n",
        "\"\"\"\n",
        "p=len(list2)#(range(10)))  \n",
        "print(\"\\n****************************\\n\")\n",
        "print(p)\n",
        "i=0\n",
        "\n",
        "while(i<p):\n",
        "    list3=list2[i]\n",
        "    #print(list3)\n",
        "    lista4=[list3]\n",
        "    #print( lista4)\n",
        "    transform_dv =dv.transform(features(lista4))\n",
        "    vect4 = transform_dv.toarray()\n",
        "    if dclf.predict(vect4) == 0:\n",
        "        #print(\"Female\")\n",
        "        ashura+=\"female \\n\"\n",
        "    else:\n",
        "        ashura+=\"male \\n\"\n",
        "       # print(\"Male\")\n",
        "    i=i+1\n",
        "\"\"\"    \n",
        "with open('PythonPDT.csv', 'a') as arquivo_csv:    \n",
        "    escrever = csv.writer(arquivo_csv, lineterminator='\\n')\n",
        "    escrever.writerow(ashura)"
      ],
      "execution_count": null,
      "outputs": []
    },
    {
      "cell_type": "code",
      "metadata": {
        "id": "nyiDwMpNVnPU"
      },
      "source": [
        "list2=[]\n",
        "list3=[]\n",
        "i=1\n",
        "import csv\n",
        "ashura=\"\"\n",
        "with open('ClassificadosPT.csv',encoding=\"utf8\") as stream:\n",
        "    reader = csv.reader(stream)\n",
        "    for row in reader:\n",
        "        list2.append(row)\n",
        "        i=i+1\n",
        "with open('PythonPT.csv',encoding=\"utf8\") as stream:\n",
        "    reader = csv.reader(stream)\n",
        "    for row in reader:\n",
        "        list3.append(row)\n",
        "\n",
        "p=len(list2)#(range(10)))   \n",
        "print(p)\n",
        "p2=len(list3)\n",
        "print(p2)\n",
        "i=0\n",
        "while(i<p):\n",
        "    print((list2[i]))\n",
        "    if  \"0\" in list2[i]:\n",
        "        ashura+=str(list3[i])\n",
        "        print(\"brinks\")\n",
        "       \n",
        "    else:   \n",
        "        ashura+=str(list2[i])\n",
        "        print(\"Navelin\")\n",
        "        \n",
        "    i=i+1 \n",
        "    ashura=ashura+\"\\n\"\n",
        "    \n",
        "#print(list2[2300])\n",
        "#print(\"\\n#####################\\n\")\n",
        "#print(list3[2300])\n",
        "with open('PTP3Y.csv', 'a') as arquivo_csv:    \n",
        "    escrever = csv.writer(arquivo_csv, lineterminator='\\n')\n",
        "    escrever.writerow(ashura)"
      ],
      "execution_count": null,
      "outputs": []
    },
    {
      "cell_type": "code",
      "metadata": {
        "id": "KbjKal1_VnPo"
      },
      "source": [],
      "execution_count": null,
      "outputs": []
    },
    {
      "cell_type": "code",
      "metadata": {
        "id": "YMnH8JzJVnPs"
      },
      "source": [],
      "execution_count": null,
      "outputs": []
    }
  ]
}